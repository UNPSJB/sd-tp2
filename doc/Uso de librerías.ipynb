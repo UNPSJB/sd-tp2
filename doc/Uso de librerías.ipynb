{
 "cells": [
  {
   "cell_type": "markdown",
   "metadata": {},
   "source": [
    "# JSON"
   ]
  },
  {
   "cell_type": "code",
   "execution_count": 1,
   "metadata": {
    "collapsed": true
   },
   "outputs": [],
   "source": [
    "from json import dump, dumps"
   ]
  },
  {
   "cell_type": "code",
   "execution_count": 3,
   "metadata": {
    "collapsed": true
   },
   "outputs": [],
   "source": [
    "dumps??"
   ]
  },
  {
   "cell_type": "code",
   "execution_count": 4,
   "metadata": {
    "collapsed": false
   },
   "outputs": [
    {
     "data": {
      "text/plain": [
       "'{\"apellido\": \"Grillo\", \"nombre\": \"Pepe\", \"avatar\": \"asfasf\"}'"
      ]
     },
     "execution_count": 4,
     "metadata": {},
     "output_type": "execute_result"
    }
   ],
   "source": [
    "dumps({'nombre': 'Pepe', 'apellido': 'Grillo', 'avatar': 'asfasf'})"
   ]
  },
  {
   "cell_type": "code",
   "execution_count": 5,
   "metadata": {
    "collapsed": false
   },
   "outputs": [
    {
     "name": "stdout",
     "output_type": "stream",
     "text": [
      "--2015-09-11 16:34:28--  http://www.descargarfondos.com/i/Un-lindo-gatito.jpg\n",
      "Resolving www.descargarfondos.com... 91.109.0.160\n",
      "Connecting to www.descargarfondos.com|91.109.0.160|:80... connected.\n",
      "HTTP request sent, awaiting response... 200 OK\n",
      "Length: 816627 (797K) [image/jpeg]\n",
      "Saving to: 'Un-lindo-gatito.jpg'\n",
      "\n",
      "Un-lindo-gatito.jpg 100%[=====================>] 797.49K   105KB/s   in 7.6s   \n",
      "\n",
      "2015-09-11 16:34:37 (105 KB/s) - 'Un-lindo-gatito.jpg' saved [816627/816627]\n",
      "\n"
     ]
    }
   ],
   "source": [
    "!wget http://www.descargarfondos.com/i/Un-lindo-gatito.jpg"
   ]
  },
  {
   "cell_type": "markdown",
   "metadata": {},
   "source": [
    "<img src=\"Un-lindo-gatito.jpg\" width=\"200\">"
   ]
  },
  {
   "cell_type": "code",
   "execution_count": 7,
   "metadata": {
    "collapsed": false
   },
   "outputs": [
    {
     "name": "stdout",
     "output_type": "stream",
     "text": [
      "HTTP_HTML.slides.md  Makefile             Untitled.ipynb\r\n",
      "HTTP_HTML.slides.pdf Un-lindo-gatito.jpg  \u001b[1m\u001b[36msrc\u001b[m\u001b[m\r\n"
     ]
    }
   ],
   "source": [
    "!ls"
   ]
  },
  {
   "cell_type": "markdown",
   "metadata": {},
   "source": [
    "# Base64"
   ]
  },
  {
   "cell_type": "code",
   "execution_count": 1,
   "metadata": {
    "collapsed": false
   },
   "outputs": [],
   "source": [
    "from base64 import encode\n",
    "# Usar archivo en memoria (StringBuffer de Java)\n",
    "try:\n",
    "    from StringIO import StringIO\n",
    "except ImportError:\n",
    "    from io import StringIO\n"
   ]
  },
  {
   "cell_type": "code",
   "execution_count": 3,
   "metadata": {
    "collapsed": false
   },
   "outputs": [],
   "source": [
    "salida = StringIO()\n",
    "f = open('Un-lindo-gatito.jpg')\n",
    "encode(f, salida)\n",
    "f.close()"
   ]
  },
  {
   "cell_type": "code",
   "execution_count": 6,
   "metadata": {
    "collapsed": false
   },
   "outputs": [
    {
     "data": {
      "text/plain": [
       "'/9j/4AAQSkZJRgABAQAAAQABAAD//gA8Q1JFQVRPUjogZ2QtanBlZyB2MS4wICh1c2luZyBJSkcg\\nSlBFRyB2NjIpLCBxdWFsaXR'"
      ]
     },
     "execution_count": 6,
     "metadata": {},
     "output_type": "execute_result"
    }
   ],
   "source": [
    "salida.getvalue()[:100]"
   ]
  },
  {
   "cell_type": "code",
   "execution_count": 7,
   "metadata": {
    "collapsed": false
   },
   "outputs": [
    {
     "data": {
      "text/plain": [
       "1103163"
      ]
     },
     "execution_count": 7,
     "metadata": {},
     "output_type": "execute_result"
    }
   ],
   "source": [
    "len(salida.getvalue())"
   ]
  },
  {
   "cell_type": "code",
   "execution_count": 9,
   "metadata": {
    "collapsed": false
   },
   "outputs": [
    {
     "name": "stdout",
     "output_type": "stream",
     "text": [
      "On branch master\r\n",
      "Untracked files:\r\n",
      "  (use \"git add <file>...\" to include in what will be committed)\r\n",
      "\r\n",
      "\t\u001b[31m../SD-TP1.pdf\u001b[m\r\n",
      "\t\u001b[31m../SD-TP2.pdf\u001b[m\r\n",
      "\t\u001b[31m../SD-TP3.pdf\u001b[m\r\n",
      "\t\u001b[31m../ejemplos_pyro/\u001b[m\r\n",
      "\t\u001b[31m../entregas/\u001b[m\r\n",
      "\t\u001b[31m../filters/\u001b[m\r\n",
      "\t\u001b[31m../graphviz-images/\u001b[m\r\n",
      "\t\u001b[31m../mclr2/\u001b[m\r\n",
      "\t\u001b[31m../notebooks/\u001b[m\r\n",
      "\t\u001b[31m./\u001b[m\r\n",
      "\t\u001b[31m../slides_prac/\u001b[m\r\n",
      "\t\u001b[31m../src/add_rpc_client\u001b[m\r\n",
      "\t\u001b[31m../src/add_rpc_server\u001b[m\r\n",
      "\t\u001b[31m../tex_settings/\u001b[m\r\n",
      "\t\u001b[31m../threaded_rpc/\u001b[m\r\n",
      "\r\n",
      "nothing added to commit but untracked files present (use \"git add\" to track)\r\n"
     ]
    }
   ],
   "source": [
    "!git status"
   ]
  },
  {
   "cell_type": "code",
   "execution_count": 1,
   "metadata": {
    "collapsed": true
   },
   "outputs": [],
   "source": [
    "from functools import partial"
   ]
  },
  {
   "cell_type": "code",
   "execution_count": 4,
   "metadata": {
    "collapsed": false
   },
   "outputs": [
    {
     "data": {
      "text/plain": [
       "4"
      ]
     },
     "execution_count": 4,
     "metadata": {},
     "output_type": "execute_result"
    }
   ],
   "source": [
    "def sumar(a, b):\n",
    "    return a + b\n",
    "sume_uno = partial(sumar, 1)\n",
    "sume_uno(3)"
   ]
  },
  {
   "cell_type": "markdown",
   "metadata": {},
   "source": [
    "# Shelve"
   ]
  },
  {
   "cell_type": "code",
   "execution_count": 1,
   "metadata": {
    "collapsed": true
   },
   "outputs": [],
   "source": [
    "import shelve"
   ]
  },
  {
   "cell_type": "code",
   "execution_count": 4,
   "metadata": {
    "collapsed": true
   },
   "outputs": [],
   "source": [
    "e = shelve.open('estante')"
   ]
  },
  {
   "cell_type": "code",
   "execution_count": 5,
   "metadata": {
    "collapsed": false
   },
   "outputs": [
    {
     "data": {
      "text/plain": [
       "['lista', 'cosa_persistible', 'cadena']"
      ]
     },
     "execution_count": 5,
     "metadata": {},
     "output_type": "execute_result"
    }
   ],
   "source": [
    "e.keys()"
   ]
  },
  {
   "cell_type": "code",
   "execution_count": 6,
   "metadata": {
    "collapsed": false
   },
   "outputs": [
    {
     "name": "stdout",
     "output_type": "stream",
     "text": [
      "lista -> [0, 1, 2, 3, 4, 5, 6, 7, 8, 9]\n",
      "cosa_persistible -> Hola mundo\n",
      "cadena -> Una cadena\n"
     ]
    }
   ],
   "source": [
    "for k, v in e.items():\n",
    "    print \"{} -> {}\".format(k, v)"
   ]
  },
  {
   "cell_type": "code",
   "execution_count": null,
   "metadata": {
    "collapsed": true
   },
   "outputs": [],
   "source": []
  }
 ],
 "metadata": {
  "kernelspec": {
   "display_name": "Python 2",
   "language": "python",
   "name": "python2"
  },
  "language_info": {
   "codemirror_mode": {
    "name": "ipython",
    "version": 2
   },
   "file_extension": ".py",
   "mimetype": "text/x-python",
   "name": "python",
   "nbconvert_exporter": "python",
   "pygments_lexer": "ipython2",
   "version": "2.7.10"
  }
 },
 "nbformat": 4,
 "nbformat_minor": 0
}
